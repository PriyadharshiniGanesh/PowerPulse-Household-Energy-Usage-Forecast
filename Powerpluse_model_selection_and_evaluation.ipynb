{
  "cells": [
    {
      "cell_type": "markdown",
      "metadata": {
        "id": "view-in-github",
        "colab_type": "text"
      },
      "source": [
        "<a href=\"https://colab.research.google.com/github/PriyadharshiniGanesh/PowerPulse-Household-Energy-Usage-Forecast/blob/main/Powerpluse_model_selection_and_evaluation.ipynb\" target=\"_parent\"><img src=\"https://colab.research.google.com/assets/colab-badge.svg\" alt=\"Open In Colab\"/></a>"
      ]
    },
    {
      "cell_type": "code",
      "execution_count": null,
      "metadata": {
        "id": "OHgK2un3IMK6"
      },
      "outputs": [],
      "source": [
        "import warnings\n",
        "warnings.filterwarnings('always')\n",
        "warnings.filterwarnings(\"ignore\")\n",
        "\n",
        "import sys\n",
        "import numpy as np\n",
        "import random as rn\n",
        "import pandas as pd\n",
        "import matplotlib.pyplot as plt\n",
        "import seaborn as sns\n",
        "from sklearn.model_selection import train_test_split\n",
        "from sklearn.model_selection import KFold # use for cross validation\n",
        "from sklearn.preprocessing import StandardScaler # for normalization\n",
        "from sklearn.preprocessing import MinMaxScaler"
      ]
    },
    {
      "cell_type": "code",
      "execution_count": null,
      "metadata": {
        "id": "QbO8HtKbIPAX"
      },
      "outputs": [],
      "source": [
        "from scipy import stats as sm\n",
        "from scipy.stats import zscore\n",
        "from sklearn.utils import shuffle\n",
        "from sklearn.metrics import mean_squared_error\n",
        "from sklearn.metrics import r2_score,mean_absolute_error,mean_squared_error\n",
        "from sklearn.linear_model import LinearRegression\n",
        "from sklearn.linear_model import Ridge, Lasso, ElasticNet\n",
        "from sklearn.tree import DecisionTreeRegressor\n",
        "from sklearn.ensemble import RandomForestRegressor, GradientBoostingRegressor, ExtraTreesRegressor, AdaBoostRegressor\n",
        "from math import sqrt\n",
        "from sklearn.preprocessing import StandardScaler\n",
        "import time"
      ]
    },
    {
      "cell_type": "code",
      "execution_count": null,
      "metadata": {
        "colab": {
          "base_uri": "https://localhost:8080/"
        },
        "id": "88G4ob5kI_gX",
        "outputId": "39084c1a-c0a5-480e-dfc9-d62e0cfe2037"
      },
      "outputs": [
        {
          "name": "stdout",
          "output_type": "stream",
          "text": [
            "/content\n",
            "['.config', 'sample_data']\n"
          ]
        }
      ],
      "source": [
        "import os\n",
        "print(os.getcwd())  # Check current working directory\n",
        "print(os.listdir())"
      ]
    },
    {
      "cell_type": "code",
      "execution_count": null,
      "metadata": {
        "id": "sx15Phy0M-t5"
      },
      "outputs": [],
      "source": [
        "df = pd.read_csv('household_power_consumption.txt', sep=';',low_memory=False, na_values=[\"?\"], parse_dates={\"datetime\": [\"Date\", \"Time\"]}, infer_datetime_format=True)"
      ]
    },
    {
      "cell_type": "code",
      "execution_count": null,
      "metadata": {
        "id": "bIDZ_dGvND-Q"
      },
      "outputs": [],
      "source": [
        "for _ in df.columns:\n",
        "    df[_].fillna(df[_].median(), inplace=True)"
      ]
    },
    {
      "cell_type": "code",
      "execution_count": null,
      "metadata": {
        "id": "Jn5s18JjNO6Y"
      },
      "outputs": [],
      "source": [
        "df[\"year\"] = df[\"datetime\"].dt.year\n",
        "df[\"month\"] = df[\"datetime\"].dt.month\n",
        "df[\"day\"] = df[\"datetime\"].dt.day\n",
        "df[\"hour\"] = df[\"datetime\"].dt.hour"
      ]
    },
    {
      "cell_type": "markdown",
      "metadata": {
        "id": "ervSLVstNVUp"
      },
      "source": [
        "Creating additional Features:\n",
        "\n",
        "Daily Average,\n",
        "Peak Hour,\n",
        "and Rolling Average\n"
      ]
    },
    {
      "cell_type": "code",
      "execution_count": null,
      "metadata": {
        "id": "c1RuhSCLNV5v"
      },
      "outputs": [],
      "source": [
        "# Daily Average\n",
        "\n",
        "daily_average = df.groupby(df[\"datetime\"].dt.date)[\"Global_active_power\"].mean()\n",
        "df[\"daily_average\"] = df[\"datetime\"].dt.date.map(daily_average)"
      ]
    },
    {
      "cell_type": "code",
      "execution_count": null,
      "metadata": {
        "id": "AzWDQwlHNUIo"
      },
      "outputs": [],
      "source": [
        "# Peak Hour\n",
        "\n",
        "hourly_avg = df.groupby([df[\"datetime\"].dt.date,df[\"datetime\"].dt.hour])[\"Global_active_power\"].sum()\n",
        "peak_hour_per_day = hourly_avg.groupby(level=0).max()\n",
        "df[\"peak_hour\"] = df[\"datetime\"].dt.date.map(peak_hour_per_day)"
      ]
    },
    {
      "cell_type": "code",
      "execution_count": null,
      "metadata": {
        "id": "OqdstlBpNgFv"
      },
      "outputs": [],
      "source": [
        "# Rolling Average\n",
        "\n",
        "rolling_average = (df.groupby(df[\"datetime\"].dt.date)[\"Global_active_power\"].apply(lambda x: x.rolling(window=2, min_periods=1).mean()))\n",
        "df[\"rolling_average\"] = rolling_average.reset_index(drop=True)"
      ]
    },
    {
      "cell_type": "code",
      "execution_count": null,
      "metadata": {
        "colab": {
          "base_uri": "https://localhost:8080/",
          "height": 399
        },
        "id": "XsxfoMBmNki2",
        "outputId": "06cee657-8d55-4b22-e1a2-357c59827440"
      },
      "outputs": [
        {
          "data": {
            "application/vnd.google.colaboratory.intrinsic+json": {
              "type": "dataframe",
              "variable_name": "df"
            },
            "text/html": [
              "\n",
              "  <div id=\"df-7e8dc688-d730-4bec-abb1-5c0feda06eb6\" class=\"colab-df-container\">\n",
              "    <div>\n",
              "<style scoped>\n",
              "    .dataframe tbody tr th:only-of-type {\n",
              "        vertical-align: middle;\n",
              "    }\n",
              "\n",
              "    .dataframe tbody tr th {\n",
              "        vertical-align: top;\n",
              "    }\n",
              "\n",
              "    .dataframe thead th {\n",
              "        text-align: right;\n",
              "    }\n",
              "</style>\n",
              "<table border=\"1\" class=\"dataframe\">\n",
              "  <thead>\n",
              "    <tr style=\"text-align: right;\">\n",
              "      <th></th>\n",
              "      <th>datetime</th>\n",
              "      <th>Global_active_power</th>\n",
              "      <th>Global_reactive_power</th>\n",
              "      <th>Voltage</th>\n",
              "      <th>Global_intensity</th>\n",
              "      <th>Sub_metering_1</th>\n",
              "      <th>Sub_metering_2</th>\n",
              "      <th>Sub_metering_3</th>\n",
              "      <th>year</th>\n",
              "      <th>month</th>\n",
              "      <th>day</th>\n",
              "      <th>hour</th>\n",
              "      <th>daily_average</th>\n",
              "      <th>peak_hour</th>\n",
              "      <th>rolling_average</th>\n",
              "    </tr>\n",
              "  </thead>\n",
              "  <tbody>\n",
              "    <tr>\n",
              "      <th>0</th>\n",
              "      <td>2006-12-16 17:24:00</td>\n",
              "      <td>4.216</td>\n",
              "      <td>0.418</td>\n",
              "      <td>234.84</td>\n",
              "      <td>18.4</td>\n",
              "      <td>0.0</td>\n",
              "      <td>1.0</td>\n",
              "      <td>17.0</td>\n",
              "      <td>2006</td>\n",
              "      <td>12</td>\n",
              "      <td>16</td>\n",
              "      <td>17</td>\n",
              "      <td>3.053475</td>\n",
              "      <td>217.932</td>\n",
              "      <td>4.216</td>\n",
              "    </tr>\n",
              "    <tr>\n",
              "      <th>1</th>\n",
              "      <td>2006-12-16 17:25:00</td>\n",
              "      <td>5.360</td>\n",
              "      <td>0.436</td>\n",
              "      <td>233.63</td>\n",
              "      <td>23.0</td>\n",
              "      <td>0.0</td>\n",
              "      <td>1.0</td>\n",
              "      <td>16.0</td>\n",
              "      <td>2006</td>\n",
              "      <td>12</td>\n",
              "      <td>16</td>\n",
              "      <td>17</td>\n",
              "      <td>3.053475</td>\n",
              "      <td>217.932</td>\n",
              "      <td>4.788</td>\n",
              "    </tr>\n",
              "    <tr>\n",
              "      <th>2</th>\n",
              "      <td>2006-12-16 17:26:00</td>\n",
              "      <td>5.374</td>\n",
              "      <td>0.498</td>\n",
              "      <td>233.29</td>\n",
              "      <td>23.0</td>\n",
              "      <td>0.0</td>\n",
              "      <td>2.0</td>\n",
              "      <td>17.0</td>\n",
              "      <td>2006</td>\n",
              "      <td>12</td>\n",
              "      <td>16</td>\n",
              "      <td>17</td>\n",
              "      <td>3.053475</td>\n",
              "      <td>217.932</td>\n",
              "      <td>5.367</td>\n",
              "    </tr>\n",
              "    <tr>\n",
              "      <th>3</th>\n",
              "      <td>2006-12-16 17:27:00</td>\n",
              "      <td>5.388</td>\n",
              "      <td>0.502</td>\n",
              "      <td>233.74</td>\n",
              "      <td>23.0</td>\n",
              "      <td>0.0</td>\n",
              "      <td>1.0</td>\n",
              "      <td>17.0</td>\n",
              "      <td>2006</td>\n",
              "      <td>12</td>\n",
              "      <td>16</td>\n",
              "      <td>17</td>\n",
              "      <td>3.053475</td>\n",
              "      <td>217.932</td>\n",
              "      <td>5.381</td>\n",
              "    </tr>\n",
              "    <tr>\n",
              "      <th>4</th>\n",
              "      <td>2006-12-16 17:28:00</td>\n",
              "      <td>3.666</td>\n",
              "      <td>0.528</td>\n",
              "      <td>235.68</td>\n",
              "      <td>15.8</td>\n",
              "      <td>0.0</td>\n",
              "      <td>1.0</td>\n",
              "      <td>17.0</td>\n",
              "      <td>2006</td>\n",
              "      <td>12</td>\n",
              "      <td>16</td>\n",
              "      <td>17</td>\n",
              "      <td>3.053475</td>\n",
              "      <td>217.932</td>\n",
              "      <td>4.527</td>\n",
              "    </tr>\n",
              "  </tbody>\n",
              "</table>\n",
              "</div>\n",
              "    <div class=\"colab-df-buttons\">\n",
              "\n",
              "  <div class=\"colab-df-container\">\n",
              "    <button class=\"colab-df-convert\" onclick=\"convertToInteractive('df-7e8dc688-d730-4bec-abb1-5c0feda06eb6')\"\n",
              "            title=\"Convert this dataframe to an interactive table.\"\n",
              "            style=\"display:none;\">\n",
              "\n",
              "  <svg xmlns=\"http://www.w3.org/2000/svg\" height=\"24px\" viewBox=\"0 -960 960 960\">\n",
              "    <path d=\"M120-120v-720h720v720H120Zm60-500h600v-160H180v160Zm220 220h160v-160H400v160Zm0 220h160v-160H400v160ZM180-400h160v-160H180v160Zm440 0h160v-160H620v160ZM180-180h160v-160H180v160Zm440 0h160v-160H620v160Z\"/>\n",
              "  </svg>\n",
              "    </button>\n",
              "\n",
              "  <style>\n",
              "    .colab-df-container {\n",
              "      display:flex;\n",
              "      gap: 12px;\n",
              "    }\n",
              "\n",
              "    .colab-df-convert {\n",
              "      background-color: #E8F0FE;\n",
              "      border: none;\n",
              "      border-radius: 50%;\n",
              "      cursor: pointer;\n",
              "      display: none;\n",
              "      fill: #1967D2;\n",
              "      height: 32px;\n",
              "      padding: 0 0 0 0;\n",
              "      width: 32px;\n",
              "    }\n",
              "\n",
              "    .colab-df-convert:hover {\n",
              "      background-color: #E2EBFA;\n",
              "      box-shadow: 0px 1px 2px rgba(60, 64, 67, 0.3), 0px 1px 3px 1px rgba(60, 64, 67, 0.15);\n",
              "      fill: #174EA6;\n",
              "    }\n",
              "\n",
              "    .colab-df-buttons div {\n",
              "      margin-bottom: 4px;\n",
              "    }\n",
              "\n",
              "    [theme=dark] .colab-df-convert {\n",
              "      background-color: #3B4455;\n",
              "      fill: #D2E3FC;\n",
              "    }\n",
              "\n",
              "    [theme=dark] .colab-df-convert:hover {\n",
              "      background-color: #434B5C;\n",
              "      box-shadow: 0px 1px 3px 1px rgba(0, 0, 0, 0.15);\n",
              "      filter: drop-shadow(0px 1px 2px rgba(0, 0, 0, 0.3));\n",
              "      fill: #FFFFFF;\n",
              "    }\n",
              "  </style>\n",
              "\n",
              "    <script>\n",
              "      const buttonEl =\n",
              "        document.querySelector('#df-7e8dc688-d730-4bec-abb1-5c0feda06eb6 button.colab-df-convert');\n",
              "      buttonEl.style.display =\n",
              "        google.colab.kernel.accessAllowed ? 'block' : 'none';\n",
              "\n",
              "      async function convertToInteractive(key) {\n",
              "        const element = document.querySelector('#df-7e8dc688-d730-4bec-abb1-5c0feda06eb6');\n",
              "        const dataTable =\n",
              "          await google.colab.kernel.invokeFunction('convertToInteractive',\n",
              "                                                    [key], {});\n",
              "        if (!dataTable) return;\n",
              "\n",
              "        const docLinkHtml = 'Like what you see? Visit the ' +\n",
              "          '<a target=\"_blank\" href=https://colab.research.google.com/notebooks/data_table.ipynb>data table notebook</a>'\n",
              "          + ' to learn more about interactive tables.';\n",
              "        element.innerHTML = '';\n",
              "        dataTable['output_type'] = 'display_data';\n",
              "        await google.colab.output.renderOutput(dataTable, element);\n",
              "        const docLink = document.createElement('div');\n",
              "        docLink.innerHTML = docLinkHtml;\n",
              "        element.appendChild(docLink);\n",
              "      }\n",
              "    </script>\n",
              "  </div>\n",
              "\n",
              "\n",
              "    <div id=\"df-447b7cbc-ed21-489d-a85a-4e1b16ec5f56\">\n",
              "      <button class=\"colab-df-quickchart\" onclick=\"quickchart('df-447b7cbc-ed21-489d-a85a-4e1b16ec5f56')\"\n",
              "                title=\"Suggest charts\"\n",
              "                style=\"display:none;\">\n",
              "\n",
              "<svg xmlns=\"http://www.w3.org/2000/svg\" height=\"24px\"viewBox=\"0 0 24 24\"\n",
              "     width=\"24px\">\n",
              "    <g>\n",
              "        <path d=\"M19 3H5c-1.1 0-2 .9-2 2v14c0 1.1.9 2 2 2h14c1.1 0 2-.9 2-2V5c0-1.1-.9-2-2-2zM9 17H7v-7h2v7zm4 0h-2V7h2v10zm4 0h-2v-4h2v4z\"/>\n",
              "    </g>\n",
              "</svg>\n",
              "      </button>\n",
              "\n",
              "<style>\n",
              "  .colab-df-quickchart {\n",
              "      --bg-color: #E8F0FE;\n",
              "      --fill-color: #1967D2;\n",
              "      --hover-bg-color: #E2EBFA;\n",
              "      --hover-fill-color: #174EA6;\n",
              "      --disabled-fill-color: #AAA;\n",
              "      --disabled-bg-color: #DDD;\n",
              "  }\n",
              "\n",
              "  [theme=dark] .colab-df-quickchart {\n",
              "      --bg-color: #3B4455;\n",
              "      --fill-color: #D2E3FC;\n",
              "      --hover-bg-color: #434B5C;\n",
              "      --hover-fill-color: #FFFFFF;\n",
              "      --disabled-bg-color: #3B4455;\n",
              "      --disabled-fill-color: #666;\n",
              "  }\n",
              "\n",
              "  .colab-df-quickchart {\n",
              "    background-color: var(--bg-color);\n",
              "    border: none;\n",
              "    border-radius: 50%;\n",
              "    cursor: pointer;\n",
              "    display: none;\n",
              "    fill: var(--fill-color);\n",
              "    height: 32px;\n",
              "    padding: 0;\n",
              "    width: 32px;\n",
              "  }\n",
              "\n",
              "  .colab-df-quickchart:hover {\n",
              "    background-color: var(--hover-bg-color);\n",
              "    box-shadow: 0 1px 2px rgba(60, 64, 67, 0.3), 0 1px 3px 1px rgba(60, 64, 67, 0.15);\n",
              "    fill: var(--button-hover-fill-color);\n",
              "  }\n",
              "\n",
              "  .colab-df-quickchart-complete:disabled,\n",
              "  .colab-df-quickchart-complete:disabled:hover {\n",
              "    background-color: var(--disabled-bg-color);\n",
              "    fill: var(--disabled-fill-color);\n",
              "    box-shadow: none;\n",
              "  }\n",
              "\n",
              "  .colab-df-spinner {\n",
              "    border: 2px solid var(--fill-color);\n",
              "    border-color: transparent;\n",
              "    border-bottom-color: var(--fill-color);\n",
              "    animation:\n",
              "      spin 1s steps(1) infinite;\n",
              "  }\n",
              "\n",
              "  @keyframes spin {\n",
              "    0% {\n",
              "      border-color: transparent;\n",
              "      border-bottom-color: var(--fill-color);\n",
              "      border-left-color: var(--fill-color);\n",
              "    }\n",
              "    20% {\n",
              "      border-color: transparent;\n",
              "      border-left-color: var(--fill-color);\n",
              "      border-top-color: var(--fill-color);\n",
              "    }\n",
              "    30% {\n",
              "      border-color: transparent;\n",
              "      border-left-color: var(--fill-color);\n",
              "      border-top-color: var(--fill-color);\n",
              "      border-right-color: var(--fill-color);\n",
              "    }\n",
              "    40% {\n",
              "      border-color: transparent;\n",
              "      border-right-color: var(--fill-color);\n",
              "      border-top-color: var(--fill-color);\n",
              "    }\n",
              "    60% {\n",
              "      border-color: transparent;\n",
              "      border-right-color: var(--fill-color);\n",
              "    }\n",
              "    80% {\n",
              "      border-color: transparent;\n",
              "      border-right-color: var(--fill-color);\n",
              "      border-bottom-color: var(--fill-color);\n",
              "    }\n",
              "    90% {\n",
              "      border-color: transparent;\n",
              "      border-bottom-color: var(--fill-color);\n",
              "    }\n",
              "  }\n",
              "</style>\n",
              "\n",
              "      <script>\n",
              "        async function quickchart(key) {\n",
              "          const quickchartButtonEl =\n",
              "            document.querySelector('#' + key + ' button');\n",
              "          quickchartButtonEl.disabled = true;  // To prevent multiple clicks.\n",
              "          quickchartButtonEl.classList.add('colab-df-spinner');\n",
              "          try {\n",
              "            const charts = await google.colab.kernel.invokeFunction(\n",
              "                'suggestCharts', [key], {});\n",
              "          } catch (error) {\n",
              "            console.error('Error during call to suggestCharts:', error);\n",
              "          }\n",
              "          quickchartButtonEl.classList.remove('colab-df-spinner');\n",
              "          quickchartButtonEl.classList.add('colab-df-quickchart-complete');\n",
              "        }\n",
              "        (() => {\n",
              "          let quickchartButtonEl =\n",
              "            document.querySelector('#df-447b7cbc-ed21-489d-a85a-4e1b16ec5f56 button');\n",
              "          quickchartButtonEl.style.display =\n",
              "            google.colab.kernel.accessAllowed ? 'block' : 'none';\n",
              "        })();\n",
              "      </script>\n",
              "    </div>\n",
              "\n",
              "    </div>\n",
              "  </div>\n"
            ],
            "text/plain": [
              "             datetime  Global_active_power  Global_reactive_power  Voltage  \\\n",
              "0 2006-12-16 17:24:00                4.216                  0.418   234.84   \n",
              "1 2006-12-16 17:25:00                5.360                  0.436   233.63   \n",
              "2 2006-12-16 17:26:00                5.374                  0.498   233.29   \n",
              "3 2006-12-16 17:27:00                5.388                  0.502   233.74   \n",
              "4 2006-12-16 17:28:00                3.666                  0.528   235.68   \n",
              "\n",
              "   Global_intensity  Sub_metering_1  Sub_metering_2  Sub_metering_3  year  \\\n",
              "0              18.4             0.0             1.0            17.0  2006   \n",
              "1              23.0             0.0             1.0            16.0  2006   \n",
              "2              23.0             0.0             2.0            17.0  2006   \n",
              "3              23.0             0.0             1.0            17.0  2006   \n",
              "4              15.8             0.0             1.0            17.0  2006   \n",
              "\n",
              "   month  day  hour  daily_average  peak_hour  rolling_average  \n",
              "0     12   16    17       3.053475    217.932            4.216  \n",
              "1     12   16    17       3.053475    217.932            4.788  \n",
              "2     12   16    17       3.053475    217.932            5.367  \n",
              "3     12   16    17       3.053475    217.932            5.381  \n",
              "4     12   16    17       3.053475    217.932            4.527  "
            ]
          },
          "execution_count": 18,
          "metadata": {},
          "output_type": "execute_result"
        }
      ],
      "source": [
        "df.head()"
      ]
    },
    {
      "cell_type": "markdown",
      "metadata": {
        "id": "w9sG1msoXqOX"
      },
      "source": [
        "Spliting Training and Test Set"
      ]
    },
    {
      "cell_type": "code",
      "execution_count": null,
      "metadata": {
        "id": "281JFjkENncP"
      },
      "outputs": [],
      "source": [
        "x = df.drop([\"datetime\",\"Global_active_power\",\"peak_hour\",\"rolling_average\"],axis=1)\n",
        "y = df[\"Global_active_power\"]"
      ]
    },
    {
      "cell_type": "code",
      "execution_count": null,
      "metadata": {
        "id": "A62c6UW3Nv0_"
      },
      "outputs": [],
      "source": [
        "X_train, X_test, y_train, y_test = train_test_split(x, y, test_size=0.3, random_state=42)"
      ]
    },
    {
      "cell_type": "code",
      "execution_count": null,
      "metadata": {
        "id": "I9w11cjsQiuv"
      },
      "outputs": [],
      "source": [
        "scaler = StandardScaler()\n",
        "X_train_scaled = scaler.fit_transform(X_train)\n",
        "X_test_scaled = scaler.transform(X_test)\n",
        "\n",
        "# y_train_scaled = scaler.fit_transform(y_train)\n",
        "# y_test_scaled = scaler.transform(y_test)"
      ]
    },
    {
      "cell_type": "code",
      "execution_count": null,
      "metadata": {
        "id": "PjPhUvCmQdH_"
      },
      "outputs": [],
      "source": [
        "from sklearn.neural_network import MLPRegressor"
      ]
    },
    {
      "cell_type": "code",
      "execution_count": null,
      "metadata": {
        "id": "nLWWGInNQTia"
      },
      "outputs": [],
      "source": [
        "models = {\n",
        "    'Linear Regression': LinearRegression(),\n",
        "    'Random Forest': RandomForestRegressor(random_state=42),\n",
        "    'Gradient Boosting': GradientBoostingRegressor(random_state=42),\n",
        "    'Neural Network': MLPRegressor(random_state=42, max_iter=1000)\n",
        "}"
      ]
    },
    {
      "cell_type": "code",
      "execution_count": null,
      "metadata": {
        "id": "P4F-i5qUQsdp"
      },
      "outputs": [],
      "source": [
        "# Hyperparameter grids\n",
        "\n",
        "param_grids = {\n",
        "    'Random Forest': {\n",
        "        'n_estimators': [100, 200],\n",
        "        'max_depth': [None, 5, 10]\n",
        "    },\n",
        "    'Gradient Boosting': {\n",
        "        'n_estimators': [100, 200],\n",
        "        'learning_rate': [0.05, 0.1],\n",
        "        'max_depth': [3, 5]\n",
        "    },\n",
        "    'Neural Network': {\n",
        "        'hidden_layer_sizes': [(64,), (128, 64)],\n",
        "        'activation': ['relu', 'tanh'],\n",
        "        'alpha': [0.0001, 0.001]\n",
        "            }\n",
        "}"
      ]
    },
    {
      "cell_type": "markdown",
      "metadata": {
        "id": "diE2zvooYAhX"
      },
      "source": [
        "Build prediction model and Model comparison"
      ]
    },
    {
      "cell_type": "code",
      "execution_count": null,
      "metadata": {
        "colab": {
          "base_uri": "https://localhost:8080/"
        },
        "id": "796ZfXIvRNhX",
        "outputId": "0885a45d-c546-4a59-df67-94d0a88389ac"
      },
      "outputs": [
        {
          "name": "stdout",
          "output_type": "stream",
          "text": [
            "                          Name  Train_Time  Train_R2_Score  Test_R2_Score  \\\n",
            "0                     Linear:     0.883842        0.998547       0.998534   \n",
            "1                      Lasso:     0.221216        0.093881       0.093880   \n",
            "2                      Ridge:     0.165000        0.998547       0.998534   \n",
            "3                RandomForest   301.236421        0.998983       0.998934   \n",
            "4  GradientBoostingRegressor:   290.013519        0.999002       0.998979   \n",
            "5          AdaBoostRegressor:   198.857111        0.988494       0.988505   \n",
            "6               MLPRegressor:    45.177858        0.999175       0.999155   \n",
            "\n",
            "   Test_MAE  Test_RMSE   Accuracy  \n",
            "0  0.025516   0.040310  95.414837  \n",
            "1  0.775444   1.002026 -59.261432  \n",
            "2  0.025516   0.040310  95.414842  \n",
            "3  0.019618   0.034372  97.013587  \n",
            "4  0.020692   0.033643  96.404412  \n",
            "5  0.089461   0.112859  76.888605  \n",
            "6  0.018959   0.030607  96.667031  \n"
          ]
        }
      ],
      "source": [
        "# Import required libraries\n",
        "from sklearn.neural_network import MLPRegressor\n",
        "from sklearn.linear_model import LinearRegression, Lasso, Ridge\n",
        "from sklearn.ensemble import RandomForestRegressor, GradientBoostingRegressor, AdaBoostRegressor\n",
        "from sklearn.metrics import r2_score, mean_absolute_error, mean_squared_error\n",
        "from sklearn.preprocessing import StandardScaler\n",
        "import pandas as pd\n",
        "import numpy as np\n",
        "import time\n",
        "import gc\n",
        "\n",
        "def evaluate(X_train, y_train, X_test, y_test):\n",
        "    model_data = []\n",
        "    models = [\n",
        "        ['Linear: ', LinearRegression()],\n",
        "        ['Lasso: ', Lasso(random_state=42)],\n",
        "        ['Ridge: ', Ridge(random_state=42)],\n",
        "        ['RandomForest ', RandomForestRegressor(n_estimators=50, max_depth=10, random_state=42)],\n",
        "        ['GradientBoostingRegressor: ', GradientBoostingRegressor(n_estimators=50, max_depth=5, random_state=42)],\n",
        "        ['AdaBoostRegressor: ', AdaBoostRegressor(n_estimators=50, random_state=42)],\n",
        "        ['MLPRegressor: ', MLPRegressor(\n",
        "            hidden_layer_sizes=(50,),\n",
        "            activation='relu',\n",
        "            solver='adam',\n",
        "            max_iter=200,\n",
        "            early_stopping=True,\n",
        "            random_state=42\n",
        "        )]\n",
        "    ]\n",
        "\n",
        "    for name, curr_model in models:\n",
        "        curr_model_data = {}\n",
        "        curr_model_data[\"Name\"] = name\n",
        "\n",
        "        start = time.time()\n",
        "        curr_model.fit(X_train, y_train)\n",
        "        end = time.time()\n",
        "\n",
        "        curr_model_data[\"Train_Time\"] = end - start\n",
        "        curr_model_data[\"Train_R2_Score\"] = r2_score(y_train, curr_model.predict(X_train))\n",
        "        curr_model_data[\"Test_R2_Score\"] = r2_score(y_test, curr_model.predict(X_test))\n",
        "        curr_model_data[\"Test_MAE\"] = mean_absolute_error(y_test, curr_model.predict(X_test))\n",
        "        curr_model_data[\"Test_RMSE\"] = np.sqrt(mean_squared_error(y_test, curr_model.predict(X_test)))\n",
        "\n",
        "        # Handle division-by-zero in MAPE\n",
        "        y_test_nonzero = np.where(y_test == 0, 1e-8, y_test)  # Avoid division by zero\n",
        "        mape = 100 * np.abs((y_test - curr_model.predict(X_test)) / y_test_nonzero)\n",
        "        curr_model_data[\"Accuracy\"] = 100 - np.mean(mape)\n",
        "\n",
        "        model_data.append(curr_model_data)\n",
        "        del curr_model\n",
        "        gc.collect()\n",
        "\n",
        "    return pd.DataFrame(model_data)\n",
        "\n",
        "# Example usage with scaling:\n",
        "scaler = StandardScaler()\n",
        "X_train_scaled = scaler.fit_transform(X_train)\n",
        "X_test_scaled = scaler.transform(X_test)\n",
        "results = evaluate(X_train_scaled, y_train, X_test_scaled, y_test)\n",
        "print(results)"
      ]
    },
    {
      "cell_type": "markdown",
      "source": [
        "Evaluating the models using  RMSE, MAE and R-squared\n"
      ],
      "metadata": {
        "id": "mjobGjcWmHvO"
      }
    },
    {
      "cell_type": "code",
      "execution_count": null,
      "metadata": {
        "colab": {
          "background_save": true
        },
        "id": "7CN3cecWUwP_",
        "outputId": "f01b9fff-cf49-4d18-d4d7-8b4c04ecbe36"
      },
      "outputs": [
        {
          "data": {
            "image/png": "[encoded data removed]",
            "text/plain": [
              "<Figure size 500x400 with 1 Axes>"
            ]
          },
          "metadata": {},
          "output_type": "display_data"
        },
        {
          "data": {
            "image/png": "[encoded data removed]",
            "text/plain": [
              "<Figure size 500x400 with 1 Axes>"
            ]
          },
          "metadata": {},
          "output_type": "display_data"
        }
      ],
      "source": [
        "evaluate(X_train,y_train,X_test,y_test).sort_values('Test_R2_Score').plot.barh(x=\"Name\", y=['Test_R2_Score'], title = 'R2_Score Results', color='g',figsize= (5,4));\n",
        "evaluate(X_train,y_train,X_test,y_test).sort_values('Test_MAE',ascending=False).plot.barh(x=\"Name\", y=['Test_RMSE','Test_MAE'], title = 'RMSE / MAE Results',figsize= (5,4));\n"
      ]
    },
    {
      "cell_type": "code",
      "source": [
        "from sklearn.model_selection import GridSearchCV\n"
      ],
      "metadata": {
        "id": "BwZeT_xUenlF"
      },
      "execution_count": 34,
      "outputs": []
    },
    {
      "cell_type": "markdown",
      "source": [
        "Cross-validation and Hyperparameter Tuning"
      ],
      "metadata": {
        "id": "LGcIuYiimklG"
      }
    },
    {
      "cell_type": "code",
      "source": [
        "model = RandomForestRegressor(random_state=42)\n",
        "param_grid = {\n",
        "    'n_estimators': [50, 100],\n",
        "    'max_depth': [5, 10],\n",
        "    'max_features': ['sqrt', 'log2']\n",
        "}\n",
        "\n",
        "# Initialize GridSearchCV\n",
        "grid_search = GridSearchCV(\n",
        "    estimator=model,\n",
        "    param_grid=param_grid,\n",
        "    cv=5,  # 5-fold cross-validation\n",
        "    scoring='neg_mean_squared_error',  # Metric to optimize\n",
        "    n_jobs=-1  # Use all CPU cores\n",
        ")\n",
        "\n",
        "# Fit to data\n",
        "grid_search.fit(X_train, y_train)\n",
        "\n",
        "# Get the best model and parameters\n",
        "best_model = grid_search.best_estimator_\n",
        "print(\"Best parameters:\", grid_search.best_params_)\n"
      ],
      "metadata": {
        "colab": {
          "base_uri": "https://localhost:8080/"
        },
        "id": "mxp_4Ym_eosd",
        "outputId": "754bf08a-98b7-433f-e455-90e0592524f1"
      },
      "execution_count": 35,
      "outputs": [
        {
          "output_type": "stream",
          "name": "stdout",
          "text": [
            "Best parameters: {'max_depth': 10, 'max_features': 'sqrt', 'n_estimators': 100}\n"
          ]
        }
      ]
    }
  ],
  "metadata": {
    "colab": {
      "provenance": [],
      "authorship_tag": "ABX9TyO74kq3931JPCX5Vke631T+",
      "include_colab_link": true
    },
    "kernelspec": {
      "display_name": "Python 3",
      "name": "python3"
    },
    "language_info": {
      "name": "python"
    }
  },
  "nbformat": 4,
  "nbformat_minor": 0
}